{
  "nbformat": 4,
  "nbformat_minor": 0,
  "metadata": {
    "colab": {
      "name": "DES.ipynb",
      "provenance": [],
      "authorship_tag": "ABX9TyOTLpnR2IJCbtPa4Ich4DxD",
      "include_colab_link": true
    },
    "kernelspec": {
      "name": "python3",
      "display_name": "Python 3"
    },
    "language_info": {
      "name": "python"
    }
  },
  "cells": [
    {
      "cell_type": "markdown",
      "metadata": {
        "id": "view-in-github",
        "colab_type": "text"
      },
      "source": [
        "<a href=\"https://colab.research.google.com/github/Amit-exe/Networking_algorithms/blob/main/DES.ipynb\" target=\"_parent\"><img src=\"https://colab.research.google.com/assets/colab-badge.svg\" alt=\"Open In Colab\"/></a>"
      ]
    },
    {
      "cell_type": "code",
      "metadata": {
        "colab": {
          "base_uri": "https://localhost:8080/"
        },
        "id": "LIEmdU8H97d6",
        "outputId": "6932662b-55d8-47f2-986d-0f5e10359899"
      },
      "source": [
        "pip install pycryptodome"
      ],
      "execution_count": null,
      "outputs": [
        {
          "output_type": "stream",
          "name": "stdout",
          "text": [
            "Collecting pycryptodome\n",
            "  Downloading pycryptodome-3.12.0-cp35-abi3-manylinux2010_x86_64.whl (2.0 MB)\n",
            "\u001b[K     |████████████████████████████████| 2.0 MB 5.1 MB/s \n",
            "\u001b[?25hInstalling collected packages: pycryptodome\n",
            "Successfully installed pycryptodome-3.12.0\n"
          ]
        }
      ]
    },
    {
      "cell_type": "code",
      "metadata": {
        "colab": {
          "base_uri": "https://localhost:8080/"
        },
        "id": "0s6VAPXp-L82",
        "outputId": "36d5e415-6fa3-45eb-fdcf-1d365ab5e802"
      },
      "source": [
        "pip install padding\n"
      ],
      "execution_count": null,
      "outputs": [
        {
          "output_type": "stream",
          "name": "stdout",
          "text": [
            "Collecting padding\n",
            "  Downloading Padding-0.5.tar.gz (3.9 kB)\n",
            "Building wheels for collected packages: padding\n",
            "  Building wheel for padding (setup.py) ... \u001b[?25l\u001b[?25hdone\n",
            "  Created wheel for padding: filename=Padding-0.5-py3-none-any.whl size=5137 sha256=53b5d40d279076c30b68d0a511163e775d23b0ac4fb3939ef2f50c349cd13962\n",
            "  Stored in directory: /root/.cache/pip/wheels/43/19/2b/6cd7004f971189bec10a272ba9c1c1b67144b98edbddcd58cd\n",
            "Successfully built padding\n",
            "Installing collected packages: padding\n",
            "Successfully installed padding-0.5\n"
          ]
        }
      ]
    },
    {
      "cell_type": "code",
      "metadata": {
        "id": "B1w0r-PO_PfF"
      },
      "source": [
        "from Crypto.Cipher import DES\n",
        "import hashlib\n",
        "import sys\n",
        "import binascii\n",
        "import Padding"
      ],
      "execution_count": null,
      "outputs": []
    },
    {
      "cell_type": "code",
      "metadata": {
        "colab": {
          "base_uri": "https://localhost:8080/"
        },
        "id": "AFvtj6dV_oRj",
        "outputId": "2b53b88a-ab28-4d34-a178-e6c0c2f0aa77"
      },
      "source": [
        "val = input(\"Enter password\")\n",
        "password = val\n",
        "plaintext = password"
      ],
      "execution_count": null,
      "outputs": [
        {
          "name": "stdout",
          "output_type": "stream",
          "text": [
            "Enter passwordamit123\n"
          ]
        }
      ]
    },
    {
      "cell_type": "code",
      "metadata": {
        "id": "1F_E_GQz_2-k"
      },
      "source": [
        "def encrypt(paintext,key,mode):\n",
        "  encobj = DES.new(key,mode)\n",
        "  return encobj.encrypt(plaintext.encode())"
      ],
      "execution_count": null,
      "outputs": []
    },
    {
      "cell_type": "code",
      "metadata": {
        "id": "b4iZjg8-AItv"
      },
      "source": [
        "def decrypt(ciphertext,key,mode):\n",
        "  encobj = DES.new(key,mode)\n",
        "  return encobj.decrypt(ciphertext)"
      ],
      "execution_count": null,
      "outputs": []
    },
    {
      "cell_type": "code",
      "metadata": {
        "colab": {
          "base_uri": "https://localhost:8080/"
        },
        "id": "pmtDX3BVAbUo",
        "outputId": "9801860f-f816-4706-99ed-6ed3ad5f26f7"
      },
      "source": [
        "print(\"\\nDES\")\n",
        "key = hashlib.sha256(password.encode()).digest()[:8]\n",
        "plaintext = Padding.appendPadding(password,blocksize=Padding.DES_blocksize,mode='CMS')\n",
        "print(\"\\nAfter padding (CMS):\", binascii.hexlify(bytearray(plaintext.encode())))\n",
        "ciphertext = encrypt(plaintext,key,DES.MODE_ECB)\n"
      ],
      "execution_count": null,
      "outputs": [
        {
          "output_type": "stream",
          "name": "stdout",
          "text": [
            "\n",
            "DES\n",
            "\n",
            "After padding (CMS): b'616d697431323301'\n"
          ]
        }
      ]
    },
    {
      "cell_type": "code",
      "metadata": {
        "colab": {
          "base_uri": "https://localhost:8080/"
        },
        "id": "n3XxkXyFDNML",
        "outputId": "fea31587-b5ca-4bca-8401-84e379391632"
      },
      "source": [
        "print(\"\\nkey: \", key)\n",
        "print(\"\\nCipher (ECB): \", binascii.hexlify(bytearray(ciphertext)))\n",
        "plaintext = decrypt(ciphertext, key, DES.MODE_ECB)\n",
        "plaintext = Padding.removePadding(plaintext.decode(), mode= \"CMS\")\n",
        "print(\"\\nkey: \",key)\n",
        "print(\"\\ndecrypt:\", plaintext)"
      ],
      "execution_count": null,
      "outputs": [
        {
          "output_type": "stream",
          "name": "stdout",
          "text": [
            "\n",
            "key:  b'\\x1f\\xect\\x01\\xb3\\x02\\xe7c'\n",
            "\n",
            "Cipher (ECB):  b'1dc19610f1970877'\n",
            "\n",
            "key:  b'\\x1f\\xect\\x01\\xb3\\x02\\xe7c'\n",
            "\n",
            "decrypt: amit123\n"
          ]
        }
      ]
    },
    {
      "cell_type": "code",
      "metadata": {
        "colab": {
          "base_uri": "https://localhost:8080/"
        },
        "id": "S_Wo1yd_OzS3",
        "outputId": "d0091f88-fcbe-419f-cc5c-e4dd33b3dc7a"
      },
      "source": [
        "from Crypto.Cipher import DES \n",
        "\n",
        "import hashlib \n",
        "\n",
        "import binascii \n",
        "\n",
        "import Padding \n",
        "\n",
        "val = input(\"Enter password\") \n",
        "\n",
        "password = val \n",
        "\n",
        "plaintext = password \n",
        "\n",
        "def encrypt(paintext,key,mode): \n",
        "\n",
        "  encobj = DES.new(key,mode) \n",
        "\n",
        "  return encobj.encrypt(plaintext.encode()) \n",
        "\n",
        "def decrypt(ciphertext,key,mode): \n",
        "\n",
        "  encobj = DES.new(key,mode) \n",
        "\n",
        "  return encobj.decrypt(ciphertext) \n",
        "\n",
        "print(\"\\nDES\") \n",
        "\n",
        "key = hashlib.sha256(password.encode()).digest()[:8] \n",
        "\n",
        "plaintext = Padding.appendPadding(password,blocksize=Padding.DES_blocksize,mode='CMS') \n",
        "\n",
        "print(\"\\nAfter padding (CMS):\", binascii.hexlify(bytearray(plaintext.encode()))) \n",
        "\n",
        "ciphertext = encrypt(plaintext,key,DES.MODE_ECB) \n",
        "\n",
        " \n",
        " \n",
        "\n",
        "print(\"\\nkey: \", key) \n",
        "\n",
        "print(\"\\nCipher (ECB): \", binascii.hexlify(bytearray(ciphertext))) \n",
        "\n",
        "plaintext = decrypt(ciphertext, key, DES.MODE_ECB) \n",
        "\n",
        "plaintext = Padding.removePadding(plaintext.decode(), mode= \"CMS\") \n",
        "\n",
        "print(\"\\nkey: \",key) \n",
        "\n",
        "print(\"\\ndecrypt:\", plaintext) "
      ],
      "execution_count": null,
      "outputs": [
        {
          "output_type": "stream",
          "name": "stdout",
          "text": [
            "Enter passwordapeshka\n",
            "\n",
            "DES\n",
            "\n",
            "After padding (CMS): b'61706573686b6101'\n",
            "\n",
            "key:  b'\\xcd\\xdb\\xe8\\xdb\\x17\\xd3\\xb73'\n",
            "\n",
            "Cipher (ECB):  b'05b893c459e44c96'\n",
            "\n",
            "key:  b'\\xcd\\xdb\\xe8\\xdb\\x17\\xd3\\xb73'\n",
            "\n",
            "decrypt: apeshka\n"
          ]
        }
      ]
    }
  ]
}