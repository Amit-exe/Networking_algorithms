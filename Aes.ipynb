{
  "nbformat": 4,
  "nbformat_minor": 0,
  "metadata": {
    "colab": {
      "name": "Aes.ipynb",
      "provenance": [],
      "collapsed_sections": [],
      "authorship_tag": "ABX9TyOU+3rhx6vIXezIF3cXbArR",
      "include_colab_link": true
    },
    "kernelspec": {
      "name": "python3",
      "display_name": "Python 3"
    },
    "language_info": {
      "name": "python"
    }
  },
  "cells": [
    {
      "cell_type": "markdown",
      "metadata": {
        "id": "view-in-github",
        "colab_type": "text"
      },
      "source": [
        "<a href=\"https://colab.research.google.com/github/Amit-exe/Networking_algorithms/blob/main/Aes.ipynb\" target=\"_parent\"><img src=\"https://colab.research.google.com/assets/colab-badge.svg\" alt=\"Open In Colab\"/></a>"
      ]
    },
    {
      "cell_type": "code",
      "metadata": {
        "colab": {
          "base_uri": "https://localhost:8080/"
        },
        "id": "VK7rr8UKqHJh",
        "outputId": "cc965ad9-593e-4157-9922-b011b428c426"
      },
      "source": [
        "pip install pycryptodome\n"
      ],
      "execution_count": null,
      "outputs": [
        {
          "output_type": "stream",
          "name": "stdout",
          "text": [
            "Collecting pycryptodome\n",
            "  Downloading pycryptodome-3.11.0-cp35-abi3-manylinux2010_x86_64.whl (1.9 MB)\n",
            "\u001b[K     |████████████████████████████████| 1.9 MB 22.1 MB/s \n",
            "\u001b[?25hInstalling collected packages: pycryptodome\n",
            "Successfully installed pycryptodome-3.11.0\n"
          ]
        }
      ]
    },
    {
      "cell_type": "code",
      "metadata": {
        "id": "R6nG_i40rIyD"
      },
      "source": [
        "\n",
        "import hashlib\n",
        "from Crypto import Random\n",
        "from Crypto.Cipher import AES\n",
        "from base64 import b64encode, b64decode\n",
        "\n",
        "class AESCipher(object):\n",
        "    def __init__(self, key):\n",
        "        self.block_size = AES.block_size\n",
        "        self.key = hashlib.sha256(key.encode()).digest()\n",
        "\n",
        "    def encrypt(self, plain_text):\n",
        "        plain_text = self.__pad(plain_text)\n",
        "        iv = Random.new().read(self.block_size)\n",
        "        cipher = AES.new(self.key, AES.MODE_CBC, iv)\n",
        "        encrypted_text = cipher.encrypt(plain_text.encode())\n",
        "        return b64encode(iv + encrypted_text).decode(\"utf-8\")\n",
        "\n",
        "    def decrypt(self, encrypted_text):\n",
        "        encrypted_text = b64decode(encrypted_text)\n",
        "        iv = encrypted_text[:self.block_size]\n",
        "        cipher = AES.new(self.key, AES.MODE_CBC, iv)\n",
        "        plain_text = cipher.decrypt(encrypted_text[self.block_size:]).decode(\"utf-8\")\n",
        "        return self.__unpad(plain_text)\n",
        "\n",
        "    def __pad(self, plain_text):\n",
        "        number_of_bytes_to_pad = self.block_size - len(plain_text) % self.block_size\n",
        "        ascii_string = chr(number_of_bytes_to_pad)\n",
        "        padding_str = number_of_bytes_to_pad * ascii_string\n",
        "        padded_plain_text = plain_text + padding_str\n",
        "        return padded_plain_text\n",
        "\n",
        "    @staticmethod\n",
        "    def __unpad(plain_text):\n",
        "        last_character = plain_text[len(plain_text) - 1:]\n",
        "        return plain_text[:-ord(last_character)]"
      ],
      "execution_count": null,
      "outputs": []
    },
    {
      "cell_type": "code",
      "metadata": {
        "id": "xCkeIy5IWRY_"
      },
      "source": [
        "a = AESCipher(\"asdfghjhgfds\")"
      ],
      "execution_count": null,
      "outputs": []
    },
    {
      "cell_type": "code",
      "metadata": {
        "colab": {
          "base_uri": "https://localhost:8080/",
          "height": 35
        },
        "id": "l8_6g8aaYC_T",
        "outputId": "7ee8774f-d7c5-4886-8d6d-4057d5406f97"
      },
      "source": [
        "a.encrypt(\"we are doing practical 5 AES\")"
      ],
      "execution_count": null,
      "outputs": [
        {
          "output_type": "execute_result",
          "data": {
            "application/vnd.google.colaboratory.intrinsic+json": {
              "type": "string"
            },
            "text/plain": [
              "'mwXdLArv6n30y9o93ZKpxuFxzqj95su1lfmoRtfiy4+vQobBpwWpQWotmMwtdoLH'"
            ]
          },
          "metadata": {},
          "execution_count": 7
        }
      ]
    },
    {
      "cell_type": "code",
      "metadata": {
        "colab": {
          "base_uri": "https://localhost:8080/",
          "height": 35
        },
        "id": "l19LwiZ1YIPU",
        "outputId": "94d90899-b762-45ae-811d-c2b9891d136f"
      },
      "source": [
        "a.decrypt(\"mwXdLArv6n30y9o93ZKpxuFxzqj95su1lfmoRtfiy4+vQobBpwWpQWotmMwtdoLH\")"
      ],
      "execution_count": null,
      "outputs": [
        {
          "output_type": "execute_result",
          "data": {
            "application/vnd.google.colaboratory.intrinsic+json": {
              "type": "string"
            },
            "text/plain": [
              "'we are doing practical 5 AES'"
            ]
          },
          "metadata": {},
          "execution_count": 8
        }
      ]
    }
  ]
}