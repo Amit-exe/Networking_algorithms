{
  "nbformat": 4,
  "nbformat_minor": 0,
  "metadata": {
    "colab": {
      "name": " Diffie–Hellman key exchange",
      "provenance": [],
      "collapsed_sections": [],
      "authorship_tag": "ABX9TyPJEc8aOwjQ3UyOKnoRXmM/",
      "include_colab_link": true
    },
    "kernelspec": {
      "name": "python3",
      "display_name": "Python 3"
    },
    "language_info": {
      "name": "python"
    }
  },
  "cells": [
    {
      "cell_type": "markdown",
      "metadata": {
        "id": "view-in-github",
        "colab_type": "text"
      },
      "source": [
        "<a href=\"https://colab.research.google.com/github/Amit-exe/Networking_algorithms/blob/main/Diffie%E2%80%93Hellman_key_exchange.ipynb\" target=\"_parent\"><img src=\"https://colab.research.google.com/assets/colab-badge.svg\" alt=\"Open In Colab\"/></a>"
      ]
    },
    {
      "cell_type": "code",
      "metadata": {
        "colab": {
          "base_uri": "https://localhost:8080/"
        },
        "id": "JMFykx7zNcxp",
        "outputId": "d5f9a84a-994a-47d1-aebf-2fe317c0aa55"
      },
      "source": [
        "\n",
        "\n",
        "#Both reciever and sender agreed on public keys P and G\n",
        "# A prime number is taken as P\n",
        "P = 23\n",
        "\n",
        "#A primitive root of P and G is taken\n",
        "G = 9\n",
        "\n",
        "print('The value of P is',P)\n",
        "print('The value of G is',G)\n",
        "\n",
        "#Alice will choose the private key a\n",
        "a = 4\n",
        "\n",
        "# gets the generated key\n",
        "x = int(pow(G,a,P))\n",
        "\n",
        "#Bob will choose the private key b\n",
        "b = 3\n",
        "\n",
        "# gets generated key\n",
        "y = int(pow(G,b,P))\n",
        "\n",
        "#secret key for Alice\n",
        "ka = int(pow(y,a,P))\n",
        "\n",
        "#secret key for Bob\n",
        "kb = int(pow(x,b,P))\n",
        "\n",
        "print('The private key of Alice',a)\n",
        "print('The private key of Bob',b)\n",
        "print('The Secret key of Alice',ka)\n",
        "print('The Secret key of Bob',kb)"
      ],
      "execution_count": null,
      "outputs": [
        {
          "output_type": "stream",
          "name": "stdout",
          "text": [
            "The value of P is 23\n",
            "The value of G is 9\n",
            "The private key of Alice 4\n",
            "The private key of Bob 3\n",
            "The Secret key of Alice 9\n",
            "The Secret key of Bob 9\n"
          ]
        }
      ]
    }
  ]
}