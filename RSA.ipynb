{
  "nbformat": 4,
  "nbformat_minor": 0,
  "metadata": {
    "colab": {
      "name": "RSA.ipynb",
      "provenance": [],
      "collapsed_sections": [],
      "authorship_tag": "ABX9TyPiZ9yW3zcI5/zlgM7jVe/h",
      "include_colab_link": true
    },
    "kernelspec": {
      "name": "python3",
      "display_name": "Python 3"
    },
    "language_info": {
      "name": "python"
    }
  },
  "cells": [
    {
      "cell_type": "markdown",
      "metadata": {
        "id": "view-in-github",
        "colab_type": "text"
      },
      "source": [
        "<a href=\"https://colab.research.google.com/github/Amit-exe/Networking_algorithms/blob/main/RSA.ipynb\" target=\"_parent\"><img src=\"https://colab.research.google.com/assets/colab-badge.svg\" alt=\"Open In Colab\"/></a>"
      ]
    },
    {
      "cell_type": "code",
      "metadata": {
        "colab": {
          "base_uri": "https://localhost:8080/"
        },
        "id": "lXIKSuas4742",
        "outputId": "262cbd03-db7d-4f1b-c02c-3cbdfd16bb15"
      },
      "source": [
        "import math\n",
        " \n",
        "print(\"RSA ENCRYPTOR/DECRYPTOR\")\n",
        "print(\"*****************************************************\")\n",
        " "
      ],
      "execution_count": null,
      "outputs": [
        {
          "output_type": "stream",
          "name": "stdout",
          "text": [
            "RSA ENCRYPTOR/DECRYPTOR\n",
            "*****************************************************\n"
          ]
        }
      ]
    },
    {
      "cell_type": "code",
      "metadata": {
        "colab": {
          "base_uri": "https://localhost:8080/"
        },
        "id": "AuKT0ez05Bfh",
        "outputId": "362f6864-6359-45e3-c7f4-d3534a976d75"
      },
      "source": [
        "print(\"PLEASE ENTER THE 'p' AND 'q' VALUES BELOW:\")\n",
        "p = int(input(\"Enter a prime number for p: \"))\n",
        "q = int(input(\"Enter a prime number for q: \"))\n",
        "print(\"*****************************************************\")\n",
        " "
      ],
      "execution_count": null,
      "outputs": [
        {
          "output_type": "stream",
          "name": "stdout",
          "text": [
            "PLEASE ENTER THE 'p' AND 'q' VALUES BELOW:\n",
            "Enter a prime number for p: 951\n",
            "Enter a prime number for q: 997\n",
            "*****************************************************\n"
          ]
        }
      ]
    },
    {
      "cell_type": "code",
      "metadata": {
        "colab": {
          "base_uri": "https://localhost:8080/"
        },
        "id": "uKjPUAJf5Xfp",
        "outputId": "afba5e93-42f6-4c33-a4ed-695f5296785e"
      },
      "source": [
        "#Check if Input's are Prime\n",
        "'''THIS FUNCTION AND THE CODE IMMEDIATELY BELOW THE FUNCTION CHECKS WHETHER THE INPUTS ARE PRIME OR NOT.'''\n",
        "def prime_check(a):\n",
        "    if(a==2):\n",
        "        return True\n",
        "    elif((a<2) or ((a%2)==0)):\n",
        "        return False\n",
        "    elif(a>2):\n",
        "        for i in range(2,a):\n",
        "            if not(a%i):\n",
        "                return False\n",
        "    return True\n",
        " \n",
        "check_p = prime_check(p)\n",
        "check_q = prime_check(q)\n",
        "while(((check_p==False)or(check_q==False))):\n",
        "    p = int(input(\"Enter a prime number for p: \"))\n",
        "    q = int(input(\"Enter a prime number for q: \"))\n",
        "    check_p = prime_check(p)\n",
        "    check_q = prime_check(q)"
      ],
      "execution_count": null,
      "outputs": [
        {
          "name": "stdout",
          "output_type": "stream",
          "text": [
            "Enter a prime number for p: 991\n",
            "Enter a prime number for q: 997\n"
          ]
        }
      ]
    },
    {
      "cell_type": "code",
      "metadata": {
        "id": "DXy5Ti7b5ZvQ",
        "colab": {
          "base_uri": "https://localhost:8080/"
        },
        "outputId": "b788e5be-36b9-4c05-f217-4dc3c27556c5"
      },
      "source": [
        "#RSA Modulus\n",
        "'''CALCULATION OF RSA MODULUS 'n'.'''\n",
        "n = p * q\n",
        "print(\"RSA Modulus(n) is:\",n)"
      ],
      "execution_count": null,
      "outputs": [
        {
          "output_type": "stream",
          "name": "stdout",
          "text": [
            "RSA Modulus(n) is: 988027\n"
          ]
        }
      ]
    },
    {
      "cell_type": "code",
      "metadata": {
        "id": "IS9CNyrR5c2a",
        "colab": {
          "base_uri": "https://localhost:8080/"
        },
        "outputId": "c119c394-b3e4-4a57-9b26-caff3320f97a"
      },
      "source": [
        "#Eulers Toitent\n",
        "'''CALCULATION OF EULERS TOITENT 'r'.'''\n",
        "r= (p-1)*(q-1)\n",
        "print(\"Eulers Toitent(r) is:\",r)\n",
        "print(\"*****************************************************\")"
      ],
      "execution_count": null,
      "outputs": [
        {
          "output_type": "stream",
          "name": "stdout",
          "text": [
            "Eulers Toitent(r) is: 986040\n",
            "*****************************************************\n"
          ]
        }
      ]
    },
    {
      "cell_type": "code",
      "metadata": {
        "id": "7drH0gsg5hqw"
      },
      "source": [
        "#GCD\n",
        "'''CALCULATION OF GCD FOR 'e' CALCULATION.'''\n",
        "def egcd(e,r):\n",
        "    while(r!=0):\n",
        "        e,r=r,e%r\n",
        "    return e"
      ],
      "execution_count": null,
      "outputs": []
    },
    {
      "cell_type": "code",
      "metadata": {
        "id": "Eu1-j9CS5oWJ"
      },
      "source": [
        "#Euclid's Algorithm\n",
        "def eugcd(e,r):\n",
        "    for i in range(1,r):\n",
        "        while(e!=0):\n",
        "            a,b=r//e,r%e\n",
        "            if(b!=0):\n",
        "                print(\"%d = %d*(%d) + %d\"%(r,a,e,b))\n",
        "            r=e\n",
        "            e=b"
      ],
      "execution_count": null,
      "outputs": []
    },
    {
      "cell_type": "code",
      "metadata": {
        "id": "F0s-bbVt5tdn"
      },
      "source": [
        "#Extended Euclidean Algorithm\n",
        "def eea(a,b):\n",
        "    if(a%b==0):\n",
        "        return(b,0,1)\n",
        "    else:\n",
        "        gcd,s,t = eea(b,a%b)\n",
        "        s = s-((a//b) * t)\n",
        "        print(\"%d = %d*(%d) + (%d)*(%d)\"%(gcd,a,t,s,b))\n",
        "        return(gcd,t,s)"
      ],
      "execution_count": null,
      "outputs": []
    },
    {
      "cell_type": "code",
      "metadata": {
        "id": "lOXOKxin5vZz"
      },
      "source": [
        "#Multiplicative Inverse\n",
        "def mult_inv(e,r):\n",
        "    gcd,s,_=eea(e,r)\n",
        "    if(gcd!=1):\n",
        "        return None\n",
        "    else:\n",
        "        if(s<0):\n",
        "            print(\"s=%d. Since %d is less than 0, s = s(modr), i.e., s=%d.\"%(s,s,s%r))\n",
        "        elif(s>0):\n",
        "            print(\"s=%d.\"%(s))\n",
        "        return s%r"
      ],
      "execution_count": null,
      "outputs": []
    },
    {
      "cell_type": "code",
      "metadata": {
        "id": "WelfPc8w5zF7",
        "colab": {
          "base_uri": "https://localhost:8080/"
        },
        "outputId": "59bba67e-1197-48aa-a769-24e86aedd939"
      },
      "source": [
        "#e Value Calculation\n",
        "'''FINDS THE HIGHEST POSSIBLE VALUE OF 'e' BETWEEN 1 and 1000 THAT MAKES (e,r) COPRIME.'''\n",
        "for i in range(1,1000):\n",
        "    if(egcd(i,r)==1):\n",
        "        e=i\n",
        "print(\"The value of e is:\",e)\n",
        "print(\"*****************************************************\")\n",
        " "
      ],
      "execution_count": null,
      "outputs": [
        {
          "output_type": "stream",
          "name": "stdout",
          "text": [
            "The value of e is: 997\n",
            "*****************************************************\n"
          ]
        }
      ]
    },
    {
      "cell_type": "code",
      "metadata": {
        "id": "JVMHi-uN537l",
        "colab": {
          "base_uri": "https://localhost:8080/"
        },
        "outputId": "693462fb-c55b-46d5-b975-9a96cc1f6e14"
      },
      "source": [
        "#d, Private and Public Keys\n",
        "'''CALCULATION OF 'd', PRIVATE KEY, AND PUBLIC KEY.'''\n",
        "print(\"EUCLID'S ALGORITHM:\")\n",
        "eugcd(e,r)\n",
        "print(\"END OF THE STEPS USED TO ACHIEVE EUCLID'S ALGORITHM.\")\n",
        "print(\"*****************************************************\")\n",
        "print(\"EUCLID'S EXTENDED ALGORITHM:\")\n",
        "d = mult_inv(e,r)\n",
        "print(\"END OF THE STEPS USED TO ACHIEVE THE VALUE OF 'd'.\")\n",
        "print(\"The value of d is:\",d)\n",
        "print(\"*****************************************************\")\n",
        "public = (e,n)\n",
        "private = (d,n)\n",
        "print(\"Private Key is:\",private)\n",
        "print(\"Public Key is:\",public)\n",
        "print(\"*****************************************************\")"
      ],
      "execution_count": null,
      "outputs": [
        {
          "output_type": "stream",
          "name": "stdout",
          "text": [
            "EUCLID'S ALGORITHM:\n",
            "986040 = 989*(997) + 7\n",
            "997 = 142*(7) + 3\n",
            "7 = 2*(3) + 1\n",
            "END OF THE STEPS USED TO ACHIEVE EUCLID'S ALGORITHM.\n",
            "*****************************************************\n",
            "EUCLID'S EXTENDED ALGORITHM:\n",
            "1 = 7*(1) + (-2)*(3)\n",
            "1 = 997*(-2) + (285)*(7)\n",
            "1 = 986040*(285) + (-281867)*(997)\n",
            "1 = 997*(-281867) + (285)*(986040)\n",
            "s=-281867. Since -281867 is less than 0, s = s(modr), i.e., s=704173.\n",
            "END OF THE STEPS USED TO ACHIEVE THE VALUE OF 'd'.\n",
            "The value of d is: 704173\n",
            "*****************************************************\n",
            "Private Key is: (704173, 988027)\n",
            "Public Key is: (997, 988027)\n",
            "*****************************************************\n"
          ]
        }
      ]
    },
    {
      "cell_type": "code",
      "metadata": {
        "id": "kgi0_8XB6BgY"
      },
      "source": [
        "#Encryption\n",
        "'''ENCRYPTION ALGORITHM.'''\n",
        "def encrypt(pub_key,n_text):\n",
        "    e,n=pub_key\n",
        "    x=[]\n",
        "    m=0\n",
        "    for i in n_text:\n",
        "        if(i.isupper()):\n",
        "            m = ord(i)-65\n",
        "            c=(m**e)%n\n",
        "            x.append(c)\n",
        "        elif(i.islower()):               \n",
        "            m= ord(i)-97\n",
        "            c=(m**e)%n\n",
        "            x.append(c)\n",
        "        elif(i.isspace()):\n",
        "            spc=400\n",
        "            x.append(400)\n",
        "    return x"
      ],
      "execution_count": null,
      "outputs": []
    },
    {
      "cell_type": "code",
      "metadata": {
        "id": "VlXuggZG6DMC"
      },
      "source": [
        "#Decryption\n",
        "'''DECRYPTION ALGORITHM'''\n",
        "def decrypt(priv_key,c_text):\n",
        "    d,n=priv_key\n",
        "    txt=c_text.split(',')\n",
        "    x=''\n",
        "    m=0\n",
        "    for i in txt:\n",
        "        if(i=='400'):\n",
        "            x+=' '\n",
        "        else:\n",
        "            m=(int(i)**d)%n\n",
        "            m+=65\n",
        "            c=chr(m)\n",
        "            x+=c\n",
        "    return x"
      ],
      "execution_count": null,
      "outputs": []
    },
    {
      "cell_type": "code",
      "metadata": {
        "id": "ls0gyMSs6HTc",
        "colab": {
          "base_uri": "https://localhost:8080/"
        },
        "outputId": "50953246-b6e8-447e-d29d-70a3f868220d"
      },
      "source": [
        "#Message\n",
        "message = input(\"What would you like encrypted or decrypted?(Separate numbers with ',' for decryption):\")\n",
        "print(\"Your message is:\",message)"
      ],
      "execution_count": null,
      "outputs": [
        {
          "output_type": "stream",
          "name": "stdout",
          "text": [
            "What would you like encrypted or decrypted?(Separate numbers with ',' for decryption):174490, 863419, 0, 20939, 597222, 689932, 20939, 0, 351952, 400, 400, 689932, 199412, 174490, 351952, 745760, 199412, 745760, 60830, 597222, 689932, 60830, 77772, 400, 863419, 335010, 0\n",
            "Your message is: 174490, 863419, 0, 20939, 597222, 689932, 20939, 0, 351952, 400, 400, 689932, 199412, 174490, 351952, 745760, 199412, 745760, 60830, 597222, 689932, 60830, 77772, 400, 863419, 335010, 0\n"
          ]
        }
      ]
    },
    {
      "cell_type": "code",
      "metadata": {
        "id": "hhJZf_Uk7B8q",
        "colab": {
          "base_uri": "https://localhost:8080/"
        },
        "outputId": "2052de53-dfd7-418d-b2ad-f3b41839f89e"
      },
      "source": [
        "#Choose Encrypt or Decrypt and Print\n",
        "choose = input(\"Type '1' for encryption and '2' for decrytion.\")\n",
        "if(choose=='1'):\n",
        "    enc_msg=encrypt(public,message)\n",
        "    print(\"Your encrypted message is:\",enc_msg)\n",
        "    print(\"Thank you for using the RSA Encryptor. Goodbye!\")\n",
        "elif(choose=='2'):\n",
        "    print(\"Your decrypted message is:\",decrypt(private,message))\n",
        "    print(\"Thank you for using the RSA Encryptor. Goodbye!\")\n",
        "else:\n",
        "    print(\"You entered the wrong option.\")\n",
        "    print(\"Thank you for using the RSA Encryptor. Goodbye!\")"
      ],
      "execution_count": null,
      "outputs": [
        {
          "output_type": "stream",
          "name": "stdout",
          "text": [
            "Type '1' for encryption and '2' for decrytion.2\n",
            "Your decrypted message is: PRACTICAL򇻷򇻷IMPLEMENTING򇻷RSA\n",
            "Thank you for using the RSA Encryptor. Goodbye!\n"
          ]
        }
      ]
    },
    {
      "cell_type": "code",
      "metadata": {
        "colab": {
          "base_uri": "https://localhost:8080/"
        },
        "id": "vnetbNOeNuH_",
        "outputId": "2b29b3cc-bb16-4458-c06a-26fecf8a24ea"
      },
      "source": [
        "import math \n",
        "\n",
        "  \n",
        "\n",
        "print(\"RSA ENCRYPTOR/DECRYPTOR\") \n",
        "\n",
        "print(\"*****************************************************\") \n",
        "\n",
        "print(\"PLEASE ENTER THE 'p' AND 'q' VALUES BELOW:\") \n",
        "\n",
        "p = int(input(\"Enter a prime number for p: \")) \n",
        "\n",
        "q = int(input(\"Enter a prime number for q: \")) \n",
        "\n",
        "print(\"*****************************************************\") \n",
        "\n",
        "#Check if Input's are Prime \n",
        "\n",
        "'''THIS FUNCTION AND THE CODE IMMEDIATELY BELOW THE FUNCTION CHECKS WHETHER THE INPUTS ARE PRIME OR NOT.''' \n",
        "\n",
        "def prime_check(a): \n",
        "\n",
        "    if(a==2): \n",
        "\n",
        "        return True \n",
        "\n",
        "    elif((a<2) or ((a%2)==0)): \n",
        "\n",
        "        return False \n",
        "\n",
        "    elif(a>2): \n",
        "\n",
        "        for i in range(2,a): \n",
        "\n",
        "            if not(a%i): \n",
        "\n",
        "                return False \n",
        "\n",
        "    return True \n",
        "\n",
        "  \n",
        "\n",
        "check_p = prime_check(p) \n",
        "\n",
        "check_q = prime_check(q) \n",
        "\n",
        "while(((check_p==False)or(check_q==False))): \n",
        "\n",
        "    p = int(input(\"Enter a prime number for p: \")) \n",
        "\n",
        "    q = int(input(\"Enter a prime number for q: \")) \n",
        "\n",
        "    check_p = prime_check(p) \n",
        "\n",
        "    check_q = prime_check(q) \n",
        "\n",
        " \n",
        "\n",
        "#RSA Modulus \n",
        "\n",
        "'''CALCULATION OF RSA MODULUS 'n'.''' \n",
        "\n",
        "n = p * q \n",
        "\n",
        "print(\"RSA Modulus(n) is:\",n) \n",
        "\n",
        " \n",
        "\n",
        "#Eulers Toitent \n",
        "\n",
        "'''CALCULATION OF EULERS TOITENT 'r'.''' \n",
        "\n",
        "r= (p-1)*(q-1) \n",
        "\n",
        "print(\"Eulers Toitent(r) is:\",r) \n",
        "\n",
        "print(\"*****************************************************\") \n",
        "\n",
        "#GCD \n",
        "\n",
        "'''CALCULATION OF GCD FOR 'e' CALCULATION.''' \n",
        "\n",
        "def egcd(e,r): \n",
        "\n",
        "    while(r!=0): \n",
        "\n",
        "        e,r=r,e%r \n",
        "\n",
        "    return e \n",
        "\n",
        "#Euclid's Algorithm \n",
        "\n",
        "def eugcd(e,r): \n",
        "\n",
        "    for i in range(1,r): \n",
        "\n",
        "        while(e!=0): \n",
        "\n",
        "            a,b=r//e,r%e \n",
        "\n",
        "            if(b!=0): \n",
        "\n",
        "                print(\"%d = %d*(%d) + %d\"%(r,a,e,b)) \n",
        "\n",
        "            r=e \n",
        "\n",
        "            e=b \n",
        "\n",
        "#Extended Euclidean Algorithm \n",
        "\n",
        "def eea(a,b): \n",
        "\n",
        "    if(a%b==0): \n",
        "\n",
        "        return(b,0,1) \n",
        "\n",
        "    else: \n",
        "\n",
        "        gcd,s,t = eea(b,a%b) \n",
        "\n",
        "        s = s-((a//b) * t) \n",
        "\n",
        "        print(\"%d = %d*(%d) + (%d)*(%d)\"%(gcd,a,t,s,b)) \n",
        "\n",
        "        return(gcd,t,s) \n",
        "\n",
        "#Multiplicative Inverse \n",
        "\n",
        "def mult_inv(e,r): \n",
        "\n",
        "    gcd,s,_=eea(e,r) \n",
        "\n",
        "    if(gcd!=1): \n",
        "\n",
        "        return None \n",
        "\n",
        "    else: \n",
        "\n",
        "        if(s<0): \n",
        "\n",
        "            print(\"s=%d. Since %d is less than 0, s = s(modr), i.e., s=%d.\"%(s,s,s%r)) \n",
        "\n",
        "        elif(s>0): \n",
        "\n",
        "            print(\"s=%d.\"%(s)) \n",
        "\n",
        "        return s%r \n",
        "\n",
        "#e Value Calculation \n",
        "\n",
        "'''FINDS THE HIGHEST POSSIBLE VALUE OF 'e' BETWEEN 1 and 1000 THAT MAKES (e,r) COPRIME.''' \n",
        "\n",
        "for i in range(1,1000): \n",
        "\n",
        "    if(egcd(i,r)==1): \n",
        "\n",
        "        e=i \n",
        "\n",
        "print(\"The value of e is:\",e) \n",
        "\n",
        "print(\"*****************************************************\") \n",
        "\n",
        " \n",
        "\n",
        "#d, Private and Public Keys \n",
        "\n",
        "'''CALCULATION OF 'd', PRIVATE KEY, AND PUBLIC KEY.''' \n",
        "\n",
        "print(\"EUCLID'S ALGORITHM:\") \n",
        "\n",
        "eugcd(e,r) \n",
        "\n",
        "print(\"END OF THE STEPS USED TO ACHIEVE EUCLID'S ALGORITHM.\") \n",
        "\n",
        "print(\"*****************************************************\") \n",
        "\n",
        "print(\"EUCLID'S EXTENDED ALGORITHM:\") \n",
        "\n",
        "d = mult_inv(e,r) \n",
        "\n",
        "print(\"END OF THE STEPS USED TO ACHIEVE THE VALUE OF 'd'.\") \n",
        "\n",
        "print(\"The value of d is:\",d) \n",
        "\n",
        "print(\"*****************************************************\") \n",
        "\n",
        "public = (e,n) \n",
        "\n",
        "private = (d,n) \n",
        "\n",
        "print(\"Private Key is:\",private) \n",
        "\n",
        "print(\"Public Key is:\",public) \n",
        "\n",
        "print(\"*****************************************************\") \n",
        "\n",
        "#Encryption \n",
        "\n",
        "'''ENCRYPTION ALGORITHM.''' \n",
        "\n",
        "def encrypt(pub_key,n_text): \n",
        "\n",
        "    e,n=pub_key \n",
        "\n",
        "    x=[] \n",
        "\n",
        "    m=0 \n",
        "\n",
        "    for i in n_text: \n",
        "\n",
        "        if(i.isupper()): \n",
        "\n",
        "            m = ord(i)-65 \n",
        "\n",
        "            c=(m**e)%n \n",
        "\n",
        "            x.append(c) \n",
        "\n",
        "        elif(i.islower()):                \n",
        "\n",
        "            m= ord(i)-97 \n",
        "\n",
        "            c=(m**e)%n \n",
        "\n",
        "            x.append(c) \n",
        "\n",
        "        elif(i.isspace()): \n",
        "\n",
        "            spc=400 \n",
        "\n",
        "            x.append(400) \n",
        "\n",
        "    return x \n",
        "\n",
        "#Decryption \n",
        "\n",
        "'''DECRYPTION ALGORITHM''' \n",
        "\n",
        "def decrypt(priv_key,c_text): \n",
        "\n",
        "    d,n=priv_key \n",
        "\n",
        "    txt=c_text.split(',') \n",
        "\n",
        "    x='' \n",
        "\n",
        "    m=0 \n",
        "\n",
        "    for i in txt: \n",
        "\n",
        "        if(i=='400'): \n",
        "\n",
        "            x+=' ' \n",
        "\n",
        "        else: \n",
        "\n",
        "            m=(int(i)**d)%n \n",
        "\n",
        "            m+=65 \n",
        "\n",
        "            c=chr(m) \n",
        "\n",
        "            x+=c \n",
        "\n",
        "    return x \n",
        "\n",
        "#Message \n",
        "\n",
        "message = input(\"What would you like encrypted or decrypted?(Separate numbers with ',' for decryption):\") \n",
        "\n",
        "print(\"Your message is:\",message) \n",
        "\n",
        "#Choose Encrypt or Decrypt and Print \n",
        "\n",
        "choose = input(\"Type '1' for encryption and '2' for decrytion.\") \n",
        "\n",
        "if(choose=='1'): \n",
        "\n",
        "    enc_msg=encrypt(public,message) \n",
        "\n",
        "    print(\"Your encrypted message is:\",enc_msg) \n",
        "\n",
        "    print(\"Thank you for using the RSA Encryptor. Goodbye!\") \n",
        "\n",
        "elif(choose=='2'): \n",
        "\n",
        "    print(\"Your decrypted message is:\",decrypt(private,message)) \n",
        "\n",
        "    print(\"Thank you for using the RSA Encryptor. Goodbye!\") \n",
        "\n",
        "else: \n",
        "\n",
        "    print(\"You entered the wrong option.\") \n",
        "\n",
        "    print(\"Thank you for using the RSA Encryptor. Goodbye!\") "
      ],
      "execution_count": null,
      "outputs": [
        {
          "output_type": "stream",
          "name": "stdout",
          "text": [
            "RSA ENCRYPTOR/DECRYPTOR\n",
            "*****************************************************\n",
            "PLEASE ENTER THE 'p' AND 'q' VALUES BELOW:\n",
            "Enter a prime number for p: 51\n",
            "Enter a prime number for q: 23\n",
            "*****************************************************\n",
            "Enter a prime number for p: 991\n",
            "Enter a prime number for q: 997\n",
            "RSA Modulus(n) is: 988027\n",
            "Eulers Toitent(r) is: 986040\n",
            "*****************************************************\n",
            "The value of e is: 997\n",
            "*****************************************************\n",
            "EUCLID'S ALGORITHM:\n",
            "986040 = 989*(997) + 7\n",
            "997 = 142*(7) + 3\n",
            "7 = 2*(3) + 1\n",
            "END OF THE STEPS USED TO ACHIEVE EUCLID'S ALGORITHM.\n",
            "*****************************************************\n",
            "EUCLID'S EXTENDED ALGORITHM:\n",
            "1 = 7*(1) + (-2)*(3)\n",
            "1 = 997*(-2) + (285)*(7)\n",
            "1 = 986040*(285) + (-281867)*(997)\n",
            "1 = 997*(-281867) + (285)*(986040)\n",
            "s=-281867. Since -281867 is less than 0, s = s(modr), i.e., s=704173.\n",
            "END OF THE STEPS USED TO ACHIEVE THE VALUE OF 'd'.\n",
            "The value of d is: 704173\n",
            "*****************************************************\n",
            "Private Key is: (704173, 988027)\n",
            "Public Key is: (997, 988027)\n",
            "*****************************************************\n",
            "What would you like encrypted or decrypted?(Separate numbers with ',' for decryption):RSA practical\n",
            "Your message is: RSA practical\n",
            "Type '1' for encryption and '2' for decrytion.1\n",
            "Your encrypted message is: [863419, 335010, 0, 400, 174490, 863419, 0, 20939, 597222, 689932, 20939, 0, 351952]\n",
            "Thank you for using the RSA Encryptor. Goodbye!\n"
          ]
        }
      ]
    }
  ]
}