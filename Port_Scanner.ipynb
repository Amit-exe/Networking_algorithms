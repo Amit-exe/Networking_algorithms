{
  "nbformat": 4,
  "nbformat_minor": 0,
  "metadata": {
    "colab": {
      "name": "Port Scanner.ipynb",
      "provenance": [],
      "collapsed_sections": [],
      "authorship_tag": "ABX9TyOLQ+Fqq59RpOwlb1ZcMs17",
      "include_colab_link": true
    },
    "kernelspec": {
      "name": "python3",
      "display_name": "Python 3"
    },
    "language_info": {
      "name": "python"
    }
  },
  "cells": [
    {
      "cell_type": "markdown",
      "metadata": {
        "id": "view-in-github",
        "colab_type": "text"
      },
      "source": [
        "<a href=\"https://colab.research.google.com/github/Amit-exe/Networking_algorithms/blob/main/Port_Scanner.ipynb\" target=\"_parent\"><img src=\"https://colab.research.google.com/assets/colab-badge.svg\" alt=\"Open In Colab\"/></a>"
      ]
    },
    {
      "cell_type": "code",
      "metadata": {
        "colab": {
          "base_uri": "https://localhost:8080/"
        },
        "id": "wqEOU02VQPsK",
        "outputId": "8908e3c4-cdc8-4807-83c1-dd011b25d3f8"
      },
      "source": [
        "#! /bin/python3\n",
        "import sys\n",
        "import socket\n",
        "from datetime import datetime\n",
        "\n",
        "\n",
        "target = socket.gethostbyname(input(\"Enter the Target IP Address \"))\n",
        "start = int(input(\"Enter the Starting Port number \"))\n",
        "end = int(input(\"Enter the Ending Port number \"))\n",
        "\n",
        "print()\n",
        "print(\"~\"*50)\n",
        "print(\"Scanning target \" + target)\n",
        "print(\"In port Range\", start, \" to \", end)\n",
        "print(\"time stored: \" +str(datetime.now()))\n",
        "print(\"~\"*50)\n",
        "print()\n",
        "\n",
        "try:\n",
        "\topen_ports =[]\n",
        "\tfor port in range(start,end):\n",
        "\t\ts= socket.socket(socket.AF_INET, socket.SOCK_STREAM)\n",
        "\t\tsocket.setdefaulttimeout(0.000001)\n",
        "\t\tprint(\"checking port {}\".format(port))\n",
        "\t\tresult = s.connect_ex((target,port))\n",
        "\t\tif result ==0:\n",
        "\t\t\tprint(\"*\"*30, \"port \",port,\" is open\", \"*\"*30)\n",
        "\t\t\topen_ports.append(port)\n",
        "\t\t\ts.close()\n",
        "\tprint()\n",
        "\tprint(\"Following ports are open\")\n",
        "\tprint(open_ports)\n",
        "except KeybordInterrupt:\n",
        "\tprint(\"\\n Exiting program\")\n",
        "\tsys.exit()\n",
        "\n",
        "except socket.gaierror:\n",
        "\tprint(\"\\n Hostname could not be resolved\")\n",
        "\tsys.exit()\n",
        "\n",
        "except socket.error:\n",
        "\tprint(\"\\n couldn't connect to server\")\n",
        "\tsys.exit()\n"
      ],
      "execution_count": null,
      "outputs": [
        {
          "output_type": "stream",
          "name": "stdout",
          "text": [
            "Enter the Target IP Address google.com\n",
            "Enter the Starting Port number 70\n",
            "Enter the Ending Port number 90\n",
            "\n",
            "~~~~~~~~~~~~~~~~~~~~~~~~~~~~~~~~~~~~~~~~~~~~~~~~~~\n",
            "Scanning target 74.125.203.101\n",
            "In port Range 70  to  90\n",
            "time stored: 2021-12-10 20:32:28.554866\n",
            "~~~~~~~~~~~~~~~~~~~~~~~~~~~~~~~~~~~~~~~~~~~~~~~~~~\n",
            "\n",
            "checking port 70\n",
            "checking port 71\n",
            "checking port 72\n",
            "checking port 73\n",
            "checking port 74\n",
            "checking port 75\n",
            "checking port 76\n",
            "checking port 77\n",
            "checking port 78\n",
            "checking port 79\n",
            "checking port 80\n",
            "****************************** port  80  is open ******************************\n",
            "checking port 81\n",
            "checking port 82\n",
            "checking port 83\n",
            "checking port 84\n",
            "checking port 85\n",
            "checking port 86\n",
            "checking port 87\n",
            "checking port 88\n",
            "checking port 89\n",
            "\n",
            "Following ports are open\n",
            "[80]\n"
          ]
        }
      ]
    },
    {
      "cell_type": "code",
      "source": [
        ""
      ],
      "metadata": {
        "id": "SwHkG3K3YDUz"
      },
      "execution_count": null,
      "outputs": []
    }
  ]
}